{
 "cells": [
  {
   "cell_type": "code",
   "execution_count": 67,
   "metadata": {},
   "outputs": [],
   "source": [
    "import pandas as pd\n",
    "\n",
    "pd.set_option(\"display.max_columns\", None)\n",
    "pd.set_option(\"display.width\", None) \n",
    "pd.set_option(\"display.max_colwidth\", None)"
   ]
  },
  {
   "cell_type": "code",
   "execution_count": 68,
   "metadata": {},
   "outputs": [
    {
     "data": {
      "text/plain": [
       "(741569, 17)"
      ]
     },
     "execution_count": 68,
     "metadata": {},
     "output_type": "execute_result"
    }
   ],
   "source": [
    "boxscores_df = pd.read_csv(\"../tests/test_data/test_cleaned_boxscores.csv\")\n",
    "games_df = pd.read_csv(\"../tests/test_data/test_cleaned_games.csv\")\n",
    "\n",
    "boxscore_df.shape\n",
    "# games_df.shape"
   ]
  },
  {
   "cell_type": "code",
   "execution_count": 69,
   "metadata": {},
   "outputs": [
    {
     "name": "stdout",
     "output_type": "stream",
     "text": [
      "<class 'pandas.core.frame.DataFrame'>\n",
      "RangeIndex: 151265 entries, 0 to 151264\n",
      "Data columns (total 18 columns):\n",
      " #   Column                    Non-Null Count   Dtype  \n",
      "---  ------                    --------------   -----  \n",
      " 0   game_id                   151265 non-null  int64  \n",
      " 1   team_name                 151265 non-null  object \n",
      " 2   player_name               151265 non-null  object \n",
      " 3   minutes_played            151265 non-null  object \n",
      " 4   field_goals               151265 non-null  int64  \n",
      " 5   field_goals_attempted     151265 non-null  int64  \n",
      " 6   three_pointers            151265 non-null  int64  \n",
      " 7   three_pointers_attempted  151265 non-null  int64  \n",
      " 8   free_throws               151265 non-null  int64  \n",
      " 9   free_throws_attempted     151265 non-null  int64  \n",
      " 10  total_rebounds            151265 non-null  int64  \n",
      " 11  assists                   151265 non-null  int64  \n",
      " 12  points                    151265 non-null  int64  \n",
      " 13  is_starter                151265 non-null  int64  \n",
      " 14  field_goals_percentage_%  151265 non-null  float64\n",
      " 15  three_point_percentage_%  151265 non-null  float64\n",
      " 16  free_throws_percentage_%  151265 non-null  float64\n",
      " 17  season_start_year         151265 non-null  int64  \n",
      "dtypes: float64(3), int64(12), object(3)\n",
      "memory usage: 20.8+ MB\n"
     ]
    }
   ],
   "source": [
    "# New DataFrame to get season start year from games\n",
    "games_subset = games_df[[\"game_id\", \"season_start_year\"]]\n",
    "merged_df_to_get_year = boxscores_df.merge(games_subset, how=\"inner\", on=\"game_id\")\n",
    "\n",
    "merged_df_to_get_year.info()\n"
   ]
  },
  {
   "cell_type": "code",
   "execution_count": 78,
   "metadata": {},
   "outputs": [
    {
     "name": "stdout",
     "output_type": "stream",
     "text": [
      "<class 'pandas.core.frame.DataFrame'>\n",
      "RangeIndex: 2585 entries, 0 to 2584\n",
      "Data columns (total 9 columns):\n",
      " #   Column                  Non-Null Count  Dtype  \n",
      "---  ------                  --------------  -----  \n",
      " 0   player_name             2585 non-null   object \n",
      " 1   season_start_year       2585 non-null   int64  \n",
      " 2   points_per_game         2585 non-null   float64\n",
      " 3   assists_per_game        2585 non-null   float64\n",
      " 4   rebounds_per_game       2585 non-null   float64\n",
      " 5   field_goal_%_per_game   2585 non-null   float64\n",
      " 6   three_point_%_per_game  2585 non-null   float64\n",
      " 7   free_throws_%_per_game  2585 non-null   float64\n",
      " 8   total_three_pointers    2585 non-null   int64  \n",
      "dtypes: float64(6), int64(2), object(1)\n",
      "memory usage: 181.9+ KB\n"
     ]
    }
   ],
   "source": [
    "# New DataFrame which contains in depth player stats\n",
    "player_stats_df = (\n",
    "    merged_df_to_get_year.groupby([\"player_name\", \"season_start_year\"])\n",
    "        .agg({\n",
    "            \"points\": \"mean\",\n",
    "            \"assists\": \"mean\",\n",
    "            \"total_rebounds\": \"mean\",\n",
    "            \"field_goals_percentage_%\": \"mean\",\n",
    "            \"three_point_percentage_%\": \"mean\",\n",
    "            \"free_throws_percentage_%\": \"mean\",\n",
    "            \"three_pointers\": \"sum\"\n",
    "        })\n",
    "        .round({\n",
    "            \"points\": 1,\n",
    "            \"assists\": 1,\n",
    "            \"total_rebounds\": 1,\n",
    "            \"field_goals_percentage_%\": 2,\n",
    "            \"free_throws_percentage_%\": 2,\n",
    "            \"three_point_percentage_%\": 2,\n",
    "        })\n",
    "        .reset_index()\n",
    "        .rename(columns={\n",
    "            \"points\": \"points_per_game\",\n",
    "            \"assists\": \"assists_per_game\",\n",
    "            \"total_rebounds\": \"rebounds_per_game\",\n",
    "            \"field_goals_percentage_%\": \"field_goal_%_per_game\",\n",
    "            \"three_point_percentage_%\": \"three_point_%_per_game\",\n",
    "            \"free_throws_percentage_%\": \"free_throws_%_per_game\",\n",
    "            \"three_pointers\": \"total_three_pointers\"\n",
    "        })\n",
    ")\n",
    "\n",
    "player_stats_df.info()"
   ]
  },
  {
   "cell_type": "code",
   "execution_count": 71,
   "metadata": {},
   "outputs": [
    {
     "data": {
      "text/html": [
       "<div>\n",
       "<style scoped>\n",
       "    .dataframe tbody tr th:only-of-type {\n",
       "        vertical-align: middle;\n",
       "    }\n",
       "\n",
       "    .dataframe tbody tr th {\n",
       "        vertical-align: top;\n",
       "    }\n",
       "\n",
       "    .dataframe thead th {\n",
       "        text-align: right;\n",
       "    }\n",
       "</style>\n",
       "<table border=\"1\" class=\"dataframe\">\n",
       "  <thead>\n",
       "    <tr style=\"text-align: right;\">\n",
       "      <th></th>\n",
       "      <th>season_start_year</th>\n",
       "      <th>away_team</th>\n",
       "      <th>points_away</th>\n",
       "      <th>home_team</th>\n",
       "      <th>points_home</th>\n",
       "      <th>date_time</th>\n",
       "      <th>game_id</th>\n",
       "      <th>team_name</th>\n",
       "    </tr>\n",
       "  </thead>\n",
       "  <tbody>\n",
       "    <tr>\n",
       "      <th>0</th>\n",
       "      <td>2015</td>\n",
       "      <td>Cleveland Cavaliers</td>\n",
       "      <td>95</td>\n",
       "      <td>Chicago Bulls</td>\n",
       "      <td>97</td>\n",
       "      <td>27-10-2015</td>\n",
       "      <td>23859</td>\n",
       "      <td>Cleveland Cavaliers</td>\n",
       "    </tr>\n",
       "    <tr>\n",
       "      <th>1</th>\n",
       "      <td>2015</td>\n",
       "      <td>Cleveland Cavaliers</td>\n",
       "      <td>95</td>\n",
       "      <td>Chicago Bulls</td>\n",
       "      <td>97</td>\n",
       "      <td>27-10-2015</td>\n",
       "      <td>23859</td>\n",
       "      <td>Cleveland Cavaliers</td>\n",
       "    </tr>\n",
       "    <tr>\n",
       "      <th>2</th>\n",
       "      <td>2015</td>\n",
       "      <td>Cleveland Cavaliers</td>\n",
       "      <td>95</td>\n",
       "      <td>Chicago Bulls</td>\n",
       "      <td>97</td>\n",
       "      <td>27-10-2015</td>\n",
       "      <td>23859</td>\n",
       "      <td>Cleveland Cavaliers</td>\n",
       "    </tr>\n",
       "    <tr>\n",
       "      <th>3</th>\n",
       "      <td>2015</td>\n",
       "      <td>Cleveland Cavaliers</td>\n",
       "      <td>95</td>\n",
       "      <td>Chicago Bulls</td>\n",
       "      <td>97</td>\n",
       "      <td>27-10-2015</td>\n",
       "      <td>23859</td>\n",
       "      <td>Cleveland Cavaliers</td>\n",
       "    </tr>\n",
       "    <tr>\n",
       "      <th>4</th>\n",
       "      <td>2015</td>\n",
       "      <td>Cleveland Cavaliers</td>\n",
       "      <td>95</td>\n",
       "      <td>Chicago Bulls</td>\n",
       "      <td>97</td>\n",
       "      <td>27-10-2015</td>\n",
       "      <td>23859</td>\n",
       "      <td>Cleveland Cavaliers</td>\n",
       "    </tr>\n",
       "  </tbody>\n",
       "</table>\n",
       "</div>"
      ],
      "text/plain": [
       "   season_start_year            away_team  points_away      home_team  \\\n",
       "0               2015  Cleveland Cavaliers           95  Chicago Bulls   \n",
       "1               2015  Cleveland Cavaliers           95  Chicago Bulls   \n",
       "2               2015  Cleveland Cavaliers           95  Chicago Bulls   \n",
       "3               2015  Cleveland Cavaliers           95  Chicago Bulls   \n",
       "4               2015  Cleveland Cavaliers           95  Chicago Bulls   \n",
       "\n",
       "   points_home   date_time  game_id            team_name  \n",
       "0           97  27-10-2015    23859  Cleveland Cavaliers  \n",
       "1           97  27-10-2015    23859  Cleveland Cavaliers  \n",
       "2           97  27-10-2015    23859  Cleveland Cavaliers  \n",
       "3           97  27-10-2015    23859  Cleveland Cavaliers  \n",
       "4           97  27-10-2015    23859  Cleveland Cavaliers  "
      ]
     },
     "execution_count": 71,
     "metadata": {},
     "output_type": "execute_result"
    }
   ],
   "source": [
    "# New DataFrame to get the team name from boxscores\n",
    "boxscores_subset = boxscores_df[[\"game_id\", \"team_name\"]]\n",
    "merged_df_to_get_team_name = games_df.merge(boxscores_subset, how=\"inner\", on=\"game_id\")\n",
    "\n",
    "merged_df_to_get_team_name.head()"
   ]
  },
  {
   "cell_type": "code",
   "execution_count": 75,
   "metadata": {},
   "outputs": [
    {
     "name": "stdout",
     "output_type": "stream",
     "text": [
      "<class 'pandas.core.frame.DataFrame'>\n",
      "RangeIndex: 150 entries, 0 to 149\n",
      "Data columns (total 6 columns):\n",
      " #   Column             Non-Null Count  Dtype  \n",
      "---  ------             --------------  -----  \n",
      " 0   season_start_year  150 non-null    int64  \n",
      " 1   team_name          150 non-null    object \n",
      " 2   total_games        150 non-null    int64  \n",
      " 3   total_wins         150 non-null    int64  \n",
      " 4   total_losses       150 non-null    int64  \n",
      " 5   win_%              150 non-null    float64\n",
      "dtypes: float64(1), int64(4), object(1)\n",
      "memory usage: 7.2+ KB\n"
     ]
    }
   ],
   "source": [
    "# Function to determine winner of a game\n",
    "def determine_winner(row):\n",
    "    if row[\"team_name\"] == row[\"home_team\"]:\n",
    "        return int(row[\"points_home\"] > row[\"points_away\"])\n",
    "    elif row[\"team_name\"] == row[\"away_team\"]:\n",
    "        return int(row[\"points_away\"] > row[\"points_home\"])\n",
    "    else:\n",
    "        return None\n",
    "\n",
    "# New column\n",
    "merged_df_to_get_team_name[\"won_game\"] = merged_df_to_get_team_name.apply(determine_winner, axis=1)\n",
    "\n",
    "# Drop duplicates\n",
    "team_wins_df = merged_df_to_get_team_name.drop_duplicates()\n",
    "\n",
    "# Count total number of wins a team has\n",
    "total_wins_df = (\n",
    "    team_wins_df.groupby([\"season_start_year\", \"team_name\"])[\"won_game\"]\n",
    "        .sum()\n",
    "        .reset_index()\n",
    "        .rename(columns={\n",
    "            \"won_game\": \"total_wins\"\n",
    "        })\n",
    ")\n",
    "\n",
    "# Count total number of games a team played per year\n",
    "games_played_df = (\n",
    "    team_wins_df.groupby([\"season_start_year\", \"team_name\"])[\"won_game\"]\n",
    "        .count()\n",
    "        .reset_index()\n",
    "        .rename(columns={\n",
    "            \"won_game\": \"total_games\"\n",
    "        })\n",
    ")\n",
    "\n",
    "# Create a new DataFrame to have the team stats for each year\n",
    "team_stats_df = pd.merge(games_played_df, total_wins_df, on=[\"season_start_year\", \"team_name\"])\n",
    "# Add a new column to find out how many losses a team had\n",
    "team_stats_df[\"total_losses\"] = team_stats_df[\"total_games\"] - team_stats_df[\"total_wins\"]\n",
    "# Add a new column to calculate the win percentage\n",
    "team_stats_df[\"win_%\"] = (team_stats_df[\"total_wins\"] / team_stats_df[\"total_games\"] * 100).round(2)\n",
    "\n",
    "\n",
    "team_stats_df.info()"
   ]
  },
  {
   "cell_type": "code",
   "execution_count": 73,
   "metadata": {},
   "outputs": [],
   "source": [
    "# Save player stats DataFrame to a CSV\n",
    "FILE_PATH = \"../tests/test_data/test_player_stats.csv\"\n",
    "player_stats_df.to_csv(FILE_PATH, index=False)"
   ]
  },
  {
   "cell_type": "code",
   "execution_count": 74,
   "metadata": {},
   "outputs": [],
   "source": [
    "# Save player stats DataFrame to a CSV\n",
    "FILE_PATH = \"../tests/test_data/test_team_stats.csv\"\n",
    "team_stats_df.to_csv(FILE_PATH, index=False)"
   ]
  }
 ],
 "metadata": {
  "kernelspec": {
   "display_name": ".venv",
   "language": "python",
   "name": "python3"
  },
  "language_info": {
   "codemirror_mode": {
    "name": "ipython",
    "version": 3
   },
   "file_extension": ".py",
   "mimetype": "text/x-python",
   "name": "python",
   "nbconvert_exporter": "python",
   "pygments_lexer": "ipython3",
   "version": "3.13.5"
  }
 },
 "nbformat": 4,
 "nbformat_minor": 2
}
