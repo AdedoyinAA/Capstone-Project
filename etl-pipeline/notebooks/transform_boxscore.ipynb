{
 "cells": [
  {
   "cell_type": "markdown",
   "metadata": {},
   "source": [
    "# EDA of Box Scores"
   ]
  },
  {
   "cell_type": "code",
   "execution_count": null,
   "metadata": {},
   "outputs": [],
   "source": [
    "import pandas as pd\n",
    "\n",
    "pd.set_option(\"display.max_columns\", None)\n",
    "pd.set_option(\"display.width\", None) \n",
    "pd.set_option(\"display.max_colwidth\", None)"
   ]
  },
  {
   "cell_type": "code",
   "execution_count": null,
   "metadata": {},
   "outputs": [],
   "source": [
    "df = pd.read_csv(\"../data/raw/boxscore.csv\")\n",
    "\n",
    "df.info()"
   ]
  },
  {
   "cell_type": "code",
   "execution_count": null,
   "metadata": {},
   "outputs": [],
   "source": [
    "columns_to_drop = [\"ORB\", \"DRB\", \"STL\", \"BLK\", \"TOV\", \"PF\", \"+/-\"]\n",
    "\n",
    "df = df.drop(columns=columns_to_drop, axis=\"columns\")\n",
    "\n",
    "df.info()"
   ]
  },
  {
   "cell_type": "markdown",
   "metadata": {},
   "source": [
    "> After removing unnecessary columns, there are no null or missing values in the data."
   ]
  },
  {
   "cell_type": "code",
   "execution_count": null,
   "metadata": {},
   "outputs": [],
   "source": [
    "conditions = [\"Did Not Play\", \"Player Suspended\", \"Not With Team\", \"Did Not Dress\"]\n",
    "\n",
    "# Find rows where minutes_played == \"Did Not Play\" or \"Player Suspended\"\n",
    "mask = df[\"MP\"].isin(conditions)\n",
    "\n",
    "# Replace the values with 0 where the mask returns True\n",
    "columns_to_replace = [\"FG\", \"FGA\", \"3P\", \"3PA\", \"FT\", \"FTA\", \"TRB\", \"AST\", \"PTS\"]\n",
    "df.loc[mask, columns_to_replace] = 0\n",
    "\n",
    "df.head(33)"
   ]
  },
  {
   "cell_type": "markdown",
   "metadata": {},
   "source": [
    "> In the initial dataset, the \"MP\" column could be either \"Did Not Play\", \"Player Suspended\", \"Not With Team\", \"Did Not Dress\", this would also make the numeric columns \"Did Not Play\", \"Player Suspended\", \"Not With Team\", \"Did Not Dress\", respectively. This would lead to some errors when doing type conversions as the text would be converted to nulls."
   ]
  },
  {
   "cell_type": "code",
   "execution_count": null,
   "metadata": {},
   "outputs": [],
   "source": [
    "columns_to_convert_to_int = [\"FG\", \"FGA\", \"3P\", \"3PA\", \"FT\", \"FTA\", \"TRB\", \"AST\", \"PTS\", \"isStarter\"]\n",
    "\n",
    "# Change to numeric data type int64\n",
    "df[columns_to_convert_to_int] = df[columns_to_convert_to_int].apply(pd.to_numeric, errors=\"coerce\").astype(\"int64\")\n",
    "\n",
    "df.info()"
   ]
  },
  {
   "cell_type": "markdown",
   "metadata": {},
   "source": [
    "> Numeric columns have been converted from `object` type to `int64`."
   ]
  },
  {
   "cell_type": "code",
   "execution_count": null,
   "metadata": {},
   "outputs": [],
   "source": [
    "dict_for_renaming_columns = {\n",
    "    \"teamName\": \"team_name\",\n",
    "    \"playerName\": \"player_name \",\n",
    "    \"MP\": \"minutes_played\",\n",
    "    \"FG\": \"field_goals\",\n",
    "    \"FGA\": \" field_goals_attempted \",\n",
    "    \"3P\": \"three_pointers\",\n",
    "    \"3PA\": \"three_pointers_attempted \",\n",
    "    \"FT\": \"free_throws\",\n",
    "    \"FTA\": \"free_throws_attempted\",\n",
    "    \"ORB\": \"offensive_rebounds\",\n",
    "    \"DRB\": \" defensive_rebounds \",\n",
    "    \"TRB\": \"total_rebounds\",\n",
    "    \"AST\": \"assists\",\n",
    "    \"PTS\": \"points\",\n",
    "    \"isStarter\": \"is_starter\"\n",
    "}\n",
    "\n",
    "df = df.rename(columns=dict_for_renaming_columns)\n",
    "\n",
    "df.info()"
   ]
  },
  {
   "cell_type": "markdown",
   "metadata": {},
   "source": [
    "> Columns have been renamed for better understanding. Some column names have been intentionally messed up to add more cleaning."
   ]
  },
  {
   "cell_type": "code",
   "execution_count": null,
   "metadata": {},
   "outputs": [],
   "source": [
    "# Check for duplicated rows\n",
    "df.duplicated().sum()"
   ]
  },
  {
   "cell_type": "markdown",
   "metadata": {},
   "source": [
    "> There are no duplicated rows in the dataset."
   ]
  },
  {
   "cell_type": "code",
   "execution_count": null,
   "metadata": {},
   "outputs": [],
   "source": [
    "# Trim leading and trailing whitespaces in column names\n",
    "df.columns = df.columns.str.strip()\n",
    "\n",
    "# Trim leading and trailing whitespaces in rows\n",
    "df[df.select_dtypes(include=\"object\").columns] = (\n",
    "    df.select_dtypes(include=\"object\").apply(lambda x: x.str.strip())\n",
    ")\n",
    "\n",
    "df.head()"
   ]
  },
  {
   "cell_type": "markdown",
   "metadata": {},
   "source": [
    "> All leading and trailing whitespaces have been removed from the dataset."
   ]
  },
  {
   "cell_type": "code",
   "execution_count": null,
   "metadata": {},
   "outputs": [],
   "source": [
    "# Add a new column which calculates the field goals percentage\n",
    "df[\"field_goals_percentage_%\"] = (\n",
    "    df[\"field_goals\"] / df[\"field_goals_attempted\"] * 100\n",
    ").round(2)\n",
    "\n",
    "# Change NaN values to 0\n",
    "df.loc[df[\"field_goals_attempted\"] == 0, \"field_goals_percentage_%\"] = 0\n",
    "\n",
    "df.head()\n"
   ]
  },
  {
   "cell_type": "markdown",
   "metadata": {},
   "source": [
    "> Added a new column which calculates the field goal percentage."
   ]
  },
  {
   "cell_type": "code",
   "execution_count": null,
   "metadata": {},
   "outputs": [],
   "source": [
    "# Add a new column which calculates the three pointers percentage\n",
    "df[\"three_point_percentage_%\"] = (\n",
    "    df[\"three_pointers\"] / df[\"three_pointers_attempted\"] * 100\n",
    ").round(2)\n",
    "\n",
    "# Change NaN values to 0\n",
    "df.loc[df[\"three_pointers_attempted\"] == 0, \"three_point_percentage_%\"] = 0\n",
    "\n",
    "df.head()"
   ]
  },
  {
   "cell_type": "markdown",
   "metadata": {},
   "source": [
    "> Added a new column which calculates the three point percentage"
   ]
  },
  {
   "cell_type": "code",
   "execution_count": null,
   "metadata": {},
   "outputs": [],
   "source": [
    "# Save the transformed dataset to a CSV\n",
    "FILE_PATH = \"../tests/test_data/test_cleaned_boxscores.csv\"\n",
    "df.to_csv(FILE_PATH, index=False)"
   ]
  }
 ],
 "metadata": {
  "kernelspec": {
   "display_name": ".venv",
   "language": "python",
   "name": "python3"
  },
  "language_info": {
   "codemirror_mode": {
    "name": "ipython",
    "version": 3
   },
   "file_extension": ".py",
   "mimetype": "text/x-python",
   "name": "python",
   "nbconvert_exporter": "python",
   "pygments_lexer": "ipython3",
   "version": "3.13.5"
  }
 },
 "nbformat": 4,
 "nbformat_minor": 2
}
