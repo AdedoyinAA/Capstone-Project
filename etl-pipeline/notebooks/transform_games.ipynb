{
 "cells": [
  {
   "cell_type": "markdown",
   "metadata": {},
   "source": [
    "# EDA of Games"
   ]
  },
  {
   "cell_type": "code",
   "execution_count": 11,
   "metadata": {},
   "outputs": [],
   "source": [
    "import pandas as pd\n",
    "\n",
    "pd.set_option(\"display.max_columns\", None)\n",
    "pd.set_option(\"display.width\", None) \n",
    "pd.set_option(\"display.max_colwidth\", None)"
   ]
  },
  {
   "cell_type": "code",
   "execution_count": 12,
   "metadata": {},
   "outputs": [
    {
     "data": {
      "text/html": [
       "<div>\n",
       "<style scoped>\n",
       "    .dataframe tbody tr th:only-of-type {\n",
       "        vertical-align: middle;\n",
       "    }\n",
       "\n",
       "    .dataframe tbody tr th {\n",
       "        vertical-align: top;\n",
       "    }\n",
       "\n",
       "    .dataframe thead th {\n",
       "        text-align: right;\n",
       "    }\n",
       "</style>\n",
       "<table border=\"1\" class=\"dataframe\">\n",
       "  <thead>\n",
       "    <tr style=\"text-align: right;\">\n",
       "      <th></th>\n",
       "      <th>seasonStartYear</th>\n",
       "      <th>awayTeam</th>\n",
       "      <th>pointsAway</th>\n",
       "      <th>homeTeam</th>\n",
       "      <th>pointsHome</th>\n",
       "      <th>attendance</th>\n",
       "      <th>notes</th>\n",
       "      <th>startET</th>\n",
       "      <th>datetime</th>\n",
       "      <th>isRegular</th>\n",
       "      <th>game_id</th>\n",
       "    </tr>\n",
       "  </thead>\n",
       "  <tbody>\n",
       "    <tr>\n",
       "      <th>0</th>\n",
       "      <td>1996</td>\n",
       "      <td>Sacramento Kings</td>\n",
       "      <td>85</td>\n",
       "      <td>Houston Rockets</td>\n",
       "      <td>96</td>\n",
       "      <td>16285.0</td>\n",
       "      <td>NaN</td>\n",
       "      <td>NaN</td>\n",
       "      <td>1996-11-01</td>\n",
       "      <td>1</td>\n",
       "      <td>1</td>\n",
       "    </tr>\n",
       "    <tr>\n",
       "      <th>1</th>\n",
       "      <td>1996</td>\n",
       "      <td>Los Angeles Clippers</td>\n",
       "      <td>97</td>\n",
       "      <td>Golden State Warriors</td>\n",
       "      <td>85</td>\n",
       "      <td>15593.0</td>\n",
       "      <td>NaN</td>\n",
       "      <td>NaN</td>\n",
       "      <td>1996-11-01</td>\n",
       "      <td>1</td>\n",
       "      <td>2</td>\n",
       "    </tr>\n",
       "    <tr>\n",
       "      <th>2</th>\n",
       "      <td>1996</td>\n",
       "      <td>Portland Trail Blazers</td>\n",
       "      <td>114</td>\n",
       "      <td>Vancouver Grizzlies</td>\n",
       "      <td>85</td>\n",
       "      <td>19193.0</td>\n",
       "      <td>NaN</td>\n",
       "      <td>NaN</td>\n",
       "      <td>1996-11-01</td>\n",
       "      <td>1</td>\n",
       "      <td>3</td>\n",
       "    </tr>\n",
       "    <tr>\n",
       "      <th>3</th>\n",
       "      <td>1996</td>\n",
       "      <td>Seattle SuperSonics</td>\n",
       "      <td>91</td>\n",
       "      <td>Utah Jazz</td>\n",
       "      <td>99</td>\n",
       "      <td>19911.0</td>\n",
       "      <td>NaN</td>\n",
       "      <td>NaN</td>\n",
       "      <td>1996-11-01</td>\n",
       "      <td>1</td>\n",
       "      <td>4</td>\n",
       "    </tr>\n",
       "    <tr>\n",
       "      <th>4</th>\n",
       "      <td>1996</td>\n",
       "      <td>New York Knicks</td>\n",
       "      <td>107</td>\n",
       "      <td>Toronto Raptors</td>\n",
       "      <td>99</td>\n",
       "      <td>28457.0</td>\n",
       "      <td>NaN</td>\n",
       "      <td>NaN</td>\n",
       "      <td>1996-11-01</td>\n",
       "      <td>1</td>\n",
       "      <td>5</td>\n",
       "    </tr>\n",
       "  </tbody>\n",
       "</table>\n",
       "</div>"
      ],
      "text/plain": [
       "   seasonStartYear                awayTeam  pointsAway               homeTeam  \\\n",
       "0             1996        Sacramento Kings          85        Houston Rockets   \n",
       "1             1996    Los Angeles Clippers          97  Golden State Warriors   \n",
       "2             1996  Portland Trail Blazers         114    Vancouver Grizzlies   \n",
       "3             1996     Seattle SuperSonics          91              Utah Jazz   \n",
       "4             1996         New York Knicks         107        Toronto Raptors   \n",
       "\n",
       "   pointsHome  attendance notes startET    datetime  isRegular  game_id  \n",
       "0          96     16285.0   NaN     NaN  1996-11-01          1        1  \n",
       "1          85     15593.0   NaN     NaN  1996-11-01          1        2  \n",
       "2          85     19193.0   NaN     NaN  1996-11-01          1        3  \n",
       "3          99     19911.0   NaN     NaN  1996-11-01          1        4  \n",
       "4          99     28457.0   NaN     NaN  1996-11-01          1        5  "
      ]
     },
     "execution_count": 12,
     "metadata": {},
     "output_type": "execute_result"
    }
   ],
   "source": [
    "df = pd.read_csv(\"../data/raw/games.csv\")\n",
    "\n",
    "df.head()"
   ]
  },
  {
   "cell_type": "code",
   "execution_count": 13,
   "metadata": {},
   "outputs": [
    {
     "name": "stdout",
     "output_type": "stream",
     "text": [
      "<class 'pandas.core.frame.DataFrame'>\n",
      "Index: 28316 entries, 0 to 30165\n",
      "Data columns (total 11 columns):\n",
      " #   Column           Non-Null Count  Dtype  \n",
      "---  ------           --------------  -----  \n",
      " 0   seasonStartYear  28316 non-null  int64  \n",
      " 1   awayTeam         28316 non-null  object \n",
      " 2   pointsAway       28316 non-null  int64  \n",
      " 3   homeTeam         28316 non-null  object \n",
      " 4   pointsHome       28316 non-null  int64  \n",
      " 5   attendance       28229 non-null  float64\n",
      " 6   notes            103 non-null    object \n",
      " 7   startET          24024 non-null  object \n",
      " 8   datetime         28316 non-null  object \n",
      " 9   isRegular        28316 non-null  int64  \n",
      " 10  game_id          28316 non-null  int64  \n",
      "dtypes: float64(1), int64(5), object(5)\n",
      "memory usage: 2.6+ MB\n"
     ]
    }
   ],
   "source": [
    "df = df[(df[\"isRegular\"] == 1)]\n",
    "\n",
    "df.info()\n"
   ]
  },
  {
   "cell_type": "code",
   "execution_count": 15,
   "metadata": {},
   "outputs": [
    {
     "name": "stdout",
     "output_type": "stream",
     "text": [
      "<class 'pandas.core.frame.DataFrame'>\n",
      "Index: 28316 entries, 0 to 30165\n",
      "Data columns (total 6 columns):\n",
      " #   Column      Non-Null Count  Dtype \n",
      "---  ------      --------------  ----- \n",
      " 0   awayTeam    28316 non-null  object\n",
      " 1   pointsAway  28316 non-null  int64 \n",
      " 2   homeTeam    28316 non-null  object\n",
      " 3   pointsHome  28316 non-null  int64 \n",
      " 4   datetime    28316 non-null  object\n",
      " 5   game_id     28316 non-null  int64 \n",
      "dtypes: int64(3), object(3)\n",
      "memory usage: 1.5+ MB\n"
     ]
    }
   ],
   "source": [
    "columns_to_drop = [\"attendance\", \"notes\", \"startET\", \"isRegular\", \"seasonStartYear\"]\n",
    "\n",
    "df = df.drop(columns=columns_to_drop, axis=\"columns\")\n",
    "\n",
    "df.info()"
   ]
  },
  {
   "cell_type": "markdown",
   "metadata": {},
   "source": [
    "> Removed uncessary columns."
   ]
  },
  {
   "cell_type": "code",
   "execution_count": 16,
   "metadata": {},
   "outputs": [
    {
     "name": "stdout",
     "output_type": "stream",
     "text": [
      "<class 'pandas.core.frame.DataFrame'>\n",
      "Index: 28316 entries, 0 to 30165\n",
      "Data columns (total 6 columns):\n",
      " #   Column        Non-Null Count  Dtype \n",
      "---  ------        --------------  ----- \n",
      " 0   away_team     28316 non-null  object\n",
      " 1   points_away   28316 non-null  int64 \n",
      " 2   home_team     28316 non-null  object\n",
      " 3   points_home   28316 non-null  int64 \n",
      " 4   date_time     28316 non-null  object\n",
      " 5   game_id       28316 non-null  int64 \n",
      "dtypes: int64(3), object(3)\n",
      "memory usage: 1.5+ MB\n"
     ]
    }
   ],
   "source": [
    "dict_for_renaming_columns = {\n",
    "    \"awayTeam\": \"away_team \",\n",
    "    \"pointsAway\": \"points_away \",\n",
    "    \"homeTeam\": \"home_team\",\n",
    "    \"pointsHome\": \"points_home \",\n",
    "    \"datetime\": \"date_time\"\n",
    "}\n",
    "\n",
    "df = df.rename(columns=dict_for_renaming_columns)\n",
    "\n",
    "df.info()"
   ]
  },
  {
   "cell_type": "markdown",
   "metadata": {},
   "source": [
    "> Columns have been renamed for consistency. Some column names have been intentionally messed up to add more cleaning."
   ]
  },
  {
   "cell_type": "code",
   "execution_count": 17,
   "metadata": {},
   "outputs": [
    {
     "data": {
      "text/plain": [
       "np.int64(0)"
      ]
     },
     "execution_count": 17,
     "metadata": {},
     "output_type": "execute_result"
    }
   ],
   "source": [
    "df.duplicated().sum()"
   ]
  },
  {
   "cell_type": "markdown",
   "metadata": {},
   "source": [
    "> No duplicates in the dataset."
   ]
  },
  {
   "cell_type": "code",
   "execution_count": 18,
   "metadata": {},
   "outputs": [
    {
     "name": "stdout",
     "output_type": "stream",
     "text": [
      "<class 'pandas.core.frame.DataFrame'>\n",
      "Index: 28316 entries, 0 to 30165\n",
      "Data columns (total 6 columns):\n",
      " #   Column       Non-Null Count  Dtype \n",
      "---  ------       --------------  ----- \n",
      " 0   away_team    28316 non-null  object\n",
      " 1   points_away  28316 non-null  int64 \n",
      " 2   home_team    28316 non-null  object\n",
      " 3   points_home  28316 non-null  int64 \n",
      " 4   date_time    28316 non-null  object\n",
      " 5   game_id      28316 non-null  int64 \n",
      "dtypes: int64(3), object(3)\n",
      "memory usage: 1.5+ MB\n"
     ]
    }
   ],
   "source": [
    "# Trim leading and trailing whitespaces in column names\n",
    "df.columns = df.columns.str.strip()\n",
    "\n",
    "# Trim leading and trailing whitespaces in rows\n",
    "df[df.select_dtypes(include=\"object\").columns] = (\n",
    "    df.select_dtypes(include=\"object\").apply(lambda x: x.str.strip())\n",
    ")\n",
    "\n",
    "df.info()"
   ]
  },
  {
   "cell_type": "markdown",
   "metadata": {},
   "source": [
    "> All leading and trailing whitespaces have been removed from the dataset."
   ]
  },
  {
   "cell_type": "code",
   "execution_count": 32,
   "metadata": {},
   "outputs": [
    {
     "name": "stdout",
     "output_type": "stream",
     "text": [
      "<class 'pandas.core.frame.DataFrame'>\n",
      "Index: 5490 entries, 24347 to 30165\n",
      "Data columns (total 7 columns):\n",
      " #   Column       Non-Null Count  Dtype         \n",
      "---  ------       --------------  -----         \n",
      " 0   away_team    5490 non-null   object        \n",
      " 1   points_away  5490 non-null   int64         \n",
      " 2   home_team    5490 non-null   object        \n",
      " 3   points_home  5490 non-null   int64         \n",
      " 4   date_time    5490 non-null   datetime64[ns]\n",
      " 5   game_id      5490 non-null   int64         \n",
      " 6   year         5490 non-null   int32         \n",
      "dtypes: datetime64[ns](1), int32(1), int64(3), object(2)\n",
      "memory usage: 321.7+ KB\n"
     ]
    }
   ],
   "source": [
    "# Change date_time to datetime object\n",
    "df[\"date_time\"] = pd.to_datetime(df[\"date_time\"], format=\"%Y-%m-%d\")\n",
    "\n",
    "# Filter only dates between 2015 and 2019\n",
    "df_filtered = df[(df[\"date_time\"].dt.year >= 2016) & (df[\"date_time\"].dt.year <= 2020)]\n",
    "\n",
    "df_filtered.loc[:, 'year'] = pd.to_datetime(df['date_time'], format='%d-%m-%Y', errors='coerce').dt.year\n",
    "\n",
    "df_filtered.info()"
   ]
  },
  {
   "cell_type": "markdown",
   "metadata": {},
   "source": [
    "> Filtered out dates between 2016 and 2020."
   ]
  },
  {
   "cell_type": "code",
   "execution_count": 22,
   "metadata": {},
   "outputs": [
    {
     "data": {
      "text/html": [
       "<div>\n",
       "<style scoped>\n",
       "    .dataframe tbody tr th:only-of-type {\n",
       "        vertical-align: middle;\n",
       "    }\n",
       "\n",
       "    .dataframe tbody tr th {\n",
       "        vertical-align: top;\n",
       "    }\n",
       "\n",
       "    .dataframe thead th {\n",
       "        text-align: right;\n",
       "    }\n",
       "</style>\n",
       "<table border=\"1\" class=\"dataframe\">\n",
       "  <thead>\n",
       "    <tr style=\"text-align: right;\">\n",
       "      <th></th>\n",
       "      <th>away_team</th>\n",
       "      <th>points_away</th>\n",
       "      <th>home_team</th>\n",
       "      <th>points_home</th>\n",
       "      <th>date_time</th>\n",
       "      <th>game_id</th>\n",
       "    </tr>\n",
       "  </thead>\n",
       "  <tbody>\n",
       "    <tr>\n",
       "      <th>24347</th>\n",
       "      <td>Dallas Mavericks</td>\n",
       "      <td>82</td>\n",
       "      <td>Miami Heat</td>\n",
       "      <td>106</td>\n",
       "      <td>2016-01-01</td>\n",
       "      <td>24348</td>\n",
       "    </tr>\n",
       "    <tr>\n",
       "      <th>24348</th>\n",
       "      <td>Charlotte Hornets</td>\n",
       "      <td>94</td>\n",
       "      <td>Toronto Raptors</td>\n",
       "      <td>104</td>\n",
       "      <td>2016-01-01</td>\n",
       "      <td>24349</td>\n",
       "    </tr>\n",
       "    <tr>\n",
       "      <th>24349</th>\n",
       "      <td>Philadelphia 76ers</td>\n",
       "      <td>84</td>\n",
       "      <td>Los Angeles Lakers</td>\n",
       "      <td>93</td>\n",
       "      <td>2016-01-01</td>\n",
       "      <td>24350</td>\n",
       "    </tr>\n",
       "    <tr>\n",
       "      <th>24350</th>\n",
       "      <td>New York Knicks</td>\n",
       "      <td>81</td>\n",
       "      <td>Chicago Bulls</td>\n",
       "      <td>108</td>\n",
       "      <td>2016-01-01</td>\n",
       "      <td>24351</td>\n",
       "    </tr>\n",
       "    <tr>\n",
       "      <th>24351</th>\n",
       "      <td>Orlando Magic</td>\n",
       "      <td>91</td>\n",
       "      <td>Washington Wizards</td>\n",
       "      <td>103</td>\n",
       "      <td>2016-01-01</td>\n",
       "      <td>24352</td>\n",
       "    </tr>\n",
       "    <tr>\n",
       "      <th>...</th>\n",
       "      <td>...</td>\n",
       "      <td>...</td>\n",
       "      <td>...</td>\n",
       "      <td>...</td>\n",
       "      <td>...</td>\n",
       "      <td>...</td>\n",
       "    </tr>\n",
       "    <tr>\n",
       "      <th>30161</th>\n",
       "      <td>Dallas Mavericks</td>\n",
       "      <td>102</td>\n",
       "      <td>Phoenix Suns</td>\n",
       "      <td>128</td>\n",
       "      <td>2020-08-13</td>\n",
       "      <td>30162</td>\n",
       "    </tr>\n",
       "    <tr>\n",
       "      <th>30162</th>\n",
       "      <td>Miami Heat</td>\n",
       "      <td>92</td>\n",
       "      <td>Indiana Pacers</td>\n",
       "      <td>109</td>\n",
       "      <td>2020-08-14</td>\n",
       "      <td>30163</td>\n",
       "    </tr>\n",
       "    <tr>\n",
       "      <th>30163</th>\n",
       "      <td>Oklahoma City Thunder</td>\n",
       "      <td>103</td>\n",
       "      <td>Los Angeles Clippers</td>\n",
       "      <td>107</td>\n",
       "      <td>2020-08-14</td>\n",
       "      <td>30164</td>\n",
       "    </tr>\n",
       "    <tr>\n",
       "      <th>30164</th>\n",
       "      <td>Philadelphia 76ers</td>\n",
       "      <td>134</td>\n",
       "      <td>Houston Rockets</td>\n",
       "      <td>96</td>\n",
       "      <td>2020-08-14</td>\n",
       "      <td>30165</td>\n",
       "    </tr>\n",
       "    <tr>\n",
       "      <th>30165</th>\n",
       "      <td>Denver Nuggets</td>\n",
       "      <td>109</td>\n",
       "      <td>Toronto Raptors</td>\n",
       "      <td>117</td>\n",
       "      <td>2020-08-14</td>\n",
       "      <td>30166</td>\n",
       "    </tr>\n",
       "  </tbody>\n",
       "</table>\n",
       "<p>5490 rows × 6 columns</p>\n",
       "</div>"
      ],
      "text/plain": [
       "                   away_team  points_away             home_team  points_home  \\\n",
       "24347       Dallas Mavericks           82            Miami Heat          106   \n",
       "24348      Charlotte Hornets           94       Toronto Raptors          104   \n",
       "24349     Philadelphia 76ers           84    Los Angeles Lakers           93   \n",
       "24350        New York Knicks           81         Chicago Bulls          108   \n",
       "24351          Orlando Magic           91    Washington Wizards          103   \n",
       "...                      ...          ...                   ...          ...   \n",
       "30161       Dallas Mavericks          102          Phoenix Suns          128   \n",
       "30162             Miami Heat           92        Indiana Pacers          109   \n",
       "30163  Oklahoma City Thunder          103  Los Angeles Clippers          107   \n",
       "30164     Philadelphia 76ers          134       Houston Rockets           96   \n",
       "30165         Denver Nuggets          109       Toronto Raptors          117   \n",
       "\n",
       "       date_time  game_id  \n",
       "24347 2016-01-01    24348  \n",
       "24348 2016-01-01    24349  \n",
       "24349 2016-01-01    24350  \n",
       "24350 2016-01-01    24351  \n",
       "24351 2016-01-01    24352  \n",
       "...          ...      ...  \n",
       "30161 2020-08-13    30162  \n",
       "30162 2020-08-14    30163  \n",
       "30163 2020-08-14    30164  \n",
       "30164 2020-08-14    30165  \n",
       "30165 2020-08-14    30166  \n",
       "\n",
       "[5490 rows x 6 columns]"
      ]
     },
     "execution_count": 22,
     "metadata": {},
     "output_type": "execute_result"
    }
   ],
   "source": [
    "df_filtered"
   ]
  },
  {
   "cell_type": "code",
   "execution_count": 21,
   "metadata": {},
   "outputs": [],
   "source": [
    "# Save the transformed dataset to a CSV\n",
    "FILE_PATH = \"../tests/test_data/test_cleaned_games.csv\"\n",
    "df_filtered.to_csv(FILE_PATH, index=False)"
   ]
  }
 ],
 "metadata": {
  "kernelspec": {
   "display_name": ".venv",
   "language": "python",
   "name": "python3"
  },
  "language_info": {
   "codemirror_mode": {
    "name": "ipython",
    "version": 3
   },
   "file_extension": ".py",
   "mimetype": "text/x-python",
   "name": "python",
   "nbconvert_exporter": "python",
   "pygments_lexer": "ipython3",
   "version": "3.13.5"
  }
 },
 "nbformat": 4,
 "nbformat_minor": 2
}
