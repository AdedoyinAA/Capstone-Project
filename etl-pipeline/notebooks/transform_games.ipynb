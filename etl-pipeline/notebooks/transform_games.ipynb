{
 "cells": [
  {
   "cell_type": "markdown",
   "metadata": {},
   "source": [
    "# EDA of Games"
   ]
  },
  {
   "cell_type": "code",
   "execution_count": 117,
   "metadata": {},
   "outputs": [],
   "source": [
    "import pandas as pd\n",
    "\n",
    "pd.set_option(\"display.max_columns\", None)\n",
    "pd.set_option(\"display.width\", None) \n",
    "pd.set_option(\"display.max_colwidth\", None)"
   ]
  },
  {
   "cell_type": "code",
   "execution_count": 118,
   "metadata": {},
   "outputs": [
    {
     "data": {
      "text/html": [
       "<div>\n",
       "<style scoped>\n",
       "    .dataframe tbody tr th:only-of-type {\n",
       "        vertical-align: middle;\n",
       "    }\n",
       "\n",
       "    .dataframe tbody tr th {\n",
       "        vertical-align: top;\n",
       "    }\n",
       "\n",
       "    .dataframe thead th {\n",
       "        text-align: right;\n",
       "    }\n",
       "</style>\n",
       "<table border=\"1\" class=\"dataframe\">\n",
       "  <thead>\n",
       "    <tr style=\"text-align: right;\">\n",
       "      <th></th>\n",
       "      <th>seasonStartYear</th>\n",
       "      <th>awayTeam</th>\n",
       "      <th>pointsAway</th>\n",
       "      <th>homeTeam</th>\n",
       "      <th>pointsHome</th>\n",
       "      <th>attendance</th>\n",
       "      <th>notes</th>\n",
       "      <th>startET</th>\n",
       "      <th>datetime</th>\n",
       "      <th>isRegular</th>\n",
       "      <th>game_id</th>\n",
       "    </tr>\n",
       "  </thead>\n",
       "  <tbody>\n",
       "    <tr>\n",
       "      <th>0</th>\n",
       "      <td>1996</td>\n",
       "      <td>Sacramento Kings</td>\n",
       "      <td>85</td>\n",
       "      <td>Houston Rockets</td>\n",
       "      <td>96</td>\n",
       "      <td>16285.0</td>\n",
       "      <td>NaN</td>\n",
       "      <td>NaN</td>\n",
       "      <td>1996-11-01</td>\n",
       "      <td>1</td>\n",
       "      <td>1</td>\n",
       "    </tr>\n",
       "    <tr>\n",
       "      <th>1</th>\n",
       "      <td>1996</td>\n",
       "      <td>Los Angeles Clippers</td>\n",
       "      <td>97</td>\n",
       "      <td>Golden State Warriors</td>\n",
       "      <td>85</td>\n",
       "      <td>15593.0</td>\n",
       "      <td>NaN</td>\n",
       "      <td>NaN</td>\n",
       "      <td>1996-11-01</td>\n",
       "      <td>1</td>\n",
       "      <td>2</td>\n",
       "    </tr>\n",
       "    <tr>\n",
       "      <th>2</th>\n",
       "      <td>1996</td>\n",
       "      <td>Portland Trail Blazers</td>\n",
       "      <td>114</td>\n",
       "      <td>Vancouver Grizzlies</td>\n",
       "      <td>85</td>\n",
       "      <td>19193.0</td>\n",
       "      <td>NaN</td>\n",
       "      <td>NaN</td>\n",
       "      <td>1996-11-01</td>\n",
       "      <td>1</td>\n",
       "      <td>3</td>\n",
       "    </tr>\n",
       "    <tr>\n",
       "      <th>3</th>\n",
       "      <td>1996</td>\n",
       "      <td>Seattle SuperSonics</td>\n",
       "      <td>91</td>\n",
       "      <td>Utah Jazz</td>\n",
       "      <td>99</td>\n",
       "      <td>19911.0</td>\n",
       "      <td>NaN</td>\n",
       "      <td>NaN</td>\n",
       "      <td>1996-11-01</td>\n",
       "      <td>1</td>\n",
       "      <td>4</td>\n",
       "    </tr>\n",
       "    <tr>\n",
       "      <th>4</th>\n",
       "      <td>1996</td>\n",
       "      <td>New York Knicks</td>\n",
       "      <td>107</td>\n",
       "      <td>Toronto Raptors</td>\n",
       "      <td>99</td>\n",
       "      <td>28457.0</td>\n",
       "      <td>NaN</td>\n",
       "      <td>NaN</td>\n",
       "      <td>1996-11-01</td>\n",
       "      <td>1</td>\n",
       "      <td>5</td>\n",
       "    </tr>\n",
       "  </tbody>\n",
       "</table>\n",
       "</div>"
      ],
      "text/plain": [
       "   seasonStartYear                awayTeam  pointsAway               homeTeam  \\\n",
       "0             1996        Sacramento Kings          85        Houston Rockets   \n",
       "1             1996    Los Angeles Clippers          97  Golden State Warriors   \n",
       "2             1996  Portland Trail Blazers         114    Vancouver Grizzlies   \n",
       "3             1996     Seattle SuperSonics          91              Utah Jazz   \n",
       "4             1996         New York Knicks         107        Toronto Raptors   \n",
       "\n",
       "   pointsHome  attendance notes startET    datetime  isRegular  game_id  \n",
       "0          96     16285.0   NaN     NaN  1996-11-01          1        1  \n",
       "1          85     15593.0   NaN     NaN  1996-11-01          1        2  \n",
       "2          85     19193.0   NaN     NaN  1996-11-01          1        3  \n",
       "3          99     19911.0   NaN     NaN  1996-11-01          1        4  \n",
       "4          99     28457.0   NaN     NaN  1996-11-01          1        5  "
      ]
     },
     "execution_count": 118,
     "metadata": {},
     "output_type": "execute_result"
    }
   ],
   "source": [
    "df = pd.read_csv(\"../data/raw/games.csv\")\n",
    "\n",
    "df.head()"
   ]
  },
  {
   "cell_type": "code",
   "execution_count": 119,
   "metadata": {},
   "outputs": [
    {
     "name": "stdout",
     "output_type": "stream",
     "text": [
      "<class 'pandas.core.frame.DataFrame'>\n",
      "RangeIndex: 30250 entries, 0 to 30249\n",
      "Data columns (total 7 columns):\n",
      " #   Column           Non-Null Count  Dtype \n",
      "---  ------           --------------  ----- \n",
      " 0   seasonStartYear  30250 non-null  int64 \n",
      " 1   awayTeam         30250 non-null  object\n",
      " 2   pointsAway       30250 non-null  int64 \n",
      " 3   homeTeam         30250 non-null  object\n",
      " 4   pointsHome       30250 non-null  int64 \n",
      " 5   datetime         30250 non-null  object\n",
      " 6   game_id          30250 non-null  int64 \n",
      "dtypes: int64(4), object(3)\n",
      "memory usage: 1.6+ MB\n"
     ]
    }
   ],
   "source": [
    "columns_to_drop = [\"attendance\", \"notes\", \"startET\", \"isRegular\"]\n",
    "\n",
    "df = df.drop(columns=columns_to_drop, axis=\"columns\")\n",
    "\n",
    "df.info()"
   ]
  },
  {
   "cell_type": "markdown",
   "metadata": {},
   "source": [
    "> Removed uncessary columns."
   ]
  },
  {
   "cell_type": "code",
   "execution_count": 120,
   "metadata": {},
   "outputs": [
    {
     "name": "stdout",
     "output_type": "stream",
     "text": [
      "<class 'pandas.core.frame.DataFrame'>\n",
      "RangeIndex: 30250 entries, 0 to 30249\n",
      "Data columns (total 7 columns):\n",
      " #   Column              Non-Null Count  Dtype \n",
      "---  ------              --------------  ----- \n",
      " 0   season_start_year   30250 non-null  int64 \n",
      " 1   away_team           30250 non-null  object\n",
      " 2   points_away         30250 non-null  int64 \n",
      " 3   home_team           30250 non-null  object\n",
      " 4   points_home         30250 non-null  int64 \n",
      " 5   date_time           30250 non-null  object\n",
      " 6   game_id             30250 non-null  int64 \n",
      "dtypes: int64(4), object(3)\n",
      "memory usage: 1.6+ MB\n"
     ]
    }
   ],
   "source": [
    "dict_for_renaming_columns = {\n",
    "    \"seasonStartYear\": \"season_start_year \",\n",
    "    \"awayTeam\": \"away_team \",\n",
    "    \"pointsAway\": \"points_away \",\n",
    "    \"homeTeam\": \"home_team\",\n",
    "    \"pointsHome\": \"points_home \",\n",
    "    \"datetime\": \"date_time\"\n",
    "}\n",
    "\n",
    "df = df.rename(columns=dict_for_renaming_columns)\n",
    "\n",
    "df.info()"
   ]
  },
  {
   "cell_type": "markdown",
   "metadata": {},
   "source": [
    "> Columns have been renamed for consistency. Some column names have been intentionally messed up to add more cleaning."
   ]
  },
  {
   "cell_type": "code",
   "execution_count": 121,
   "metadata": {},
   "outputs": [
    {
     "data": {
      "text/plain": [
       "np.int64(0)"
      ]
     },
     "execution_count": 121,
     "metadata": {},
     "output_type": "execute_result"
    }
   ],
   "source": [
    "df.duplicated().sum()"
   ]
  },
  {
   "cell_type": "markdown",
   "metadata": {},
   "source": [
    "> No duplicates in the dataset."
   ]
  },
  {
   "cell_type": "code",
   "execution_count": 122,
   "metadata": {},
   "outputs": [
    {
     "name": "stdout",
     "output_type": "stream",
     "text": [
      "<class 'pandas.core.frame.DataFrame'>\n",
      "RangeIndex: 30250 entries, 0 to 30249\n",
      "Data columns (total 7 columns):\n",
      " #   Column             Non-Null Count  Dtype \n",
      "---  ------             --------------  ----- \n",
      " 0   season_start_year  30250 non-null  int64 \n",
      " 1   away_team          30250 non-null  object\n",
      " 2   points_away        30250 non-null  int64 \n",
      " 3   home_team          30250 non-null  object\n",
      " 4   points_home        30250 non-null  int64 \n",
      " 5   date_time          30250 non-null  object\n",
      " 6   game_id            30250 non-null  int64 \n",
      "dtypes: int64(4), object(3)\n",
      "memory usage: 1.6+ MB\n"
     ]
    }
   ],
   "source": [
    "# Trim leading and trailing whitespaces in column names\n",
    "df.columns = df.columns.str.strip()\n",
    "\n",
    "# Trim leading and trailing whitespaces in rows\n",
    "df[df.select_dtypes(include=\"object\").columns] = (\n",
    "    df.select_dtypes(include=\"object\").apply(lambda x: x.str.strip())\n",
    ")\n",
    "\n",
    "df.info()"
   ]
  },
  {
   "cell_type": "markdown",
   "metadata": {},
   "source": [
    "> All leading and trailing whitespaces have been removed from the dataset."
   ]
  },
  {
   "cell_type": "code",
   "execution_count": 123,
   "metadata": {},
   "outputs": [
    {
     "name": "stdout",
     "output_type": "stream",
     "text": [
      "<class 'pandas.core.frame.DataFrame'>\n",
      "RangeIndex: 30250 entries, 0 to 30249\n",
      "Data columns (total 7 columns):\n",
      " #   Column             Non-Null Count  Dtype \n",
      "---  ------             --------------  ----- \n",
      " 0   season_start_year  30250 non-null  int64 \n",
      " 1   away_team          30250 non-null  object\n",
      " 2   points_away        30250 non-null  int64 \n",
      " 3   home_team          30250 non-null  object\n",
      " 4   points_home        30250 non-null  int64 \n",
      " 5   date_time          30250 non-null  object\n",
      " 6   game_id            30250 non-null  int64 \n",
      "dtypes: int64(4), object(3)\n",
      "memory usage: 1.6+ MB\n"
     ]
    }
   ],
   "source": [
    "# Change date_time to datetime object\n",
    "df[\"date_time\"] = pd.to_datetime(df[\"date_time\"], format=\"%Y-%m-%d\")\n",
    "\n",
    "# Change the format to DD-MM-YYYY\n",
    "df[\"date_time\"] = df[\"date_time\"].dt.strftime(\"%d-%m-%Y\")\n",
    "\n",
    "df.info()"
   ]
  },
  {
   "cell_type": "markdown",
   "metadata": {},
   "source": [
    "> All dates have been converted to DD-MM-YYY format."
   ]
  },
  {
   "cell_type": "code",
   "execution_count": 128,
   "metadata": {},
   "outputs": [
    {
     "data": {
      "text/html": [
       "<div>\n",
       "<style scoped>\n",
       "    .dataframe tbody tr th:only-of-type {\n",
       "        vertical-align: middle;\n",
       "    }\n",
       "\n",
       "    .dataframe tbody tr th {\n",
       "        vertical-align: top;\n",
       "    }\n",
       "\n",
       "    .dataframe thead th {\n",
       "        text-align: right;\n",
       "    }\n",
       "</style>\n",
       "<table border=\"1\" class=\"dataframe\">\n",
       "  <thead>\n",
       "    <tr style=\"text-align: right;\">\n",
       "      <th></th>\n",
       "      <th>season_start_year</th>\n",
       "      <th>away_team</th>\n",
       "      <th>points_away</th>\n",
       "      <th>home_team</th>\n",
       "      <th>points_home</th>\n",
       "      <th>date_time</th>\n",
       "      <th>game_id</th>\n",
       "    </tr>\n",
       "  </thead>\n",
       "  <tbody>\n",
       "    <tr>\n",
       "      <th>23858</th>\n",
       "      <td>2015</td>\n",
       "      <td>Cleveland Cavaliers</td>\n",
       "      <td>95</td>\n",
       "      <td>Chicago Bulls</td>\n",
       "      <td>97</td>\n",
       "      <td>27-10-2015</td>\n",
       "      <td>23859</td>\n",
       "    </tr>\n",
       "    <tr>\n",
       "      <th>23859</th>\n",
       "      <td>2015</td>\n",
       "      <td>Detroit Pistons</td>\n",
       "      <td>106</td>\n",
       "      <td>Atlanta Hawks</td>\n",
       "      <td>94</td>\n",
       "      <td>27-10-2015</td>\n",
       "      <td>23860</td>\n",
       "    </tr>\n",
       "    <tr>\n",
       "      <th>23860</th>\n",
       "      <td>2015</td>\n",
       "      <td>New Orleans Pelicans</td>\n",
       "      <td>95</td>\n",
       "      <td>Golden State Warriors</td>\n",
       "      <td>111</td>\n",
       "      <td>27-10-2015</td>\n",
       "      <td>23861</td>\n",
       "    </tr>\n",
       "    <tr>\n",
       "      <th>23861</th>\n",
       "      <td>2015</td>\n",
       "      <td>Minnesota Timberwolves</td>\n",
       "      <td>112</td>\n",
       "      <td>Los Angeles Lakers</td>\n",
       "      <td>111</td>\n",
       "      <td>28-10-2015</td>\n",
       "      <td>23862</td>\n",
       "    </tr>\n",
       "    <tr>\n",
       "      <th>23862</th>\n",
       "      <td>2015</td>\n",
       "      <td>Los Angeles Clippers</td>\n",
       "      <td>111</td>\n",
       "      <td>Sacramento Kings</td>\n",
       "      <td>104</td>\n",
       "      <td>28-10-2015</td>\n",
       "      <td>23863</td>\n",
       "    </tr>\n",
       "    <tr>\n",
       "      <th>23863</th>\n",
       "      <td>2015</td>\n",
       "      <td>New Orleans Pelicans</td>\n",
       "      <td>94</td>\n",
       "      <td>Portland Trail Blazers</td>\n",
       "      <td>112</td>\n",
       "      <td>28-10-2015</td>\n",
       "      <td>23864</td>\n",
       "    </tr>\n",
       "    <tr>\n",
       "      <th>23864</th>\n",
       "      <td>2015</td>\n",
       "      <td>Dallas Mavericks</td>\n",
       "      <td>111</td>\n",
       "      <td>Phoenix Suns</td>\n",
       "      <td>95</td>\n",
       "      <td>28-10-2015</td>\n",
       "      <td>23865</td>\n",
       "    </tr>\n",
       "    <tr>\n",
       "      <th>23865</th>\n",
       "      <td>2015</td>\n",
       "      <td>Denver Nuggets</td>\n",
       "      <td>105</td>\n",
       "      <td>Houston Rockets</td>\n",
       "      <td>85</td>\n",
       "      <td>28-10-2015</td>\n",
       "      <td>23866</td>\n",
       "    </tr>\n",
       "    <tr>\n",
       "      <th>23866</th>\n",
       "      <td>2015</td>\n",
       "      <td>San Antonio Spurs</td>\n",
       "      <td>106</td>\n",
       "      <td>Oklahoma City Thunder</td>\n",
       "      <td>112</td>\n",
       "      <td>28-10-2015</td>\n",
       "      <td>23867</td>\n",
       "    </tr>\n",
       "    <tr>\n",
       "      <th>23867</th>\n",
       "      <td>2015</td>\n",
       "      <td>Cleveland Cavaliers</td>\n",
       "      <td>106</td>\n",
       "      <td>Memphis Grizzlies</td>\n",
       "      <td>76</td>\n",
       "      <td>28-10-2015</td>\n",
       "      <td>23868</td>\n",
       "    </tr>\n",
       "  </tbody>\n",
       "</table>\n",
       "</div>"
      ],
      "text/plain": [
       "       season_start_year               away_team  points_away  \\\n",
       "23858               2015     Cleveland Cavaliers           95   \n",
       "23859               2015         Detroit Pistons          106   \n",
       "23860               2015    New Orleans Pelicans           95   \n",
       "23861               2015  Minnesota Timberwolves          112   \n",
       "23862               2015    Los Angeles Clippers          111   \n",
       "23863               2015    New Orleans Pelicans           94   \n",
       "23864               2015        Dallas Mavericks          111   \n",
       "23865               2015          Denver Nuggets          105   \n",
       "23866               2015       San Antonio Spurs          106   \n",
       "23867               2015     Cleveland Cavaliers          106   \n",
       "\n",
       "                    home_team  points_home   date_time  game_id  \n",
       "23858           Chicago Bulls           97  27-10-2015    23859  \n",
       "23859           Atlanta Hawks           94  27-10-2015    23860  \n",
       "23860   Golden State Warriors          111  27-10-2015    23861  \n",
       "23861      Los Angeles Lakers          111  28-10-2015    23862  \n",
       "23862        Sacramento Kings          104  28-10-2015    23863  \n",
       "23863  Portland Trail Blazers          112  28-10-2015    23864  \n",
       "23864            Phoenix Suns           95  28-10-2015    23865  \n",
       "23865         Houston Rockets           85  28-10-2015    23866  \n",
       "23866   Oklahoma City Thunder          112  28-10-2015    23867  \n",
       "23867       Memphis Grizzlies           76  28-10-2015    23868  "
      ]
     },
     "execution_count": 128,
     "metadata": {},
     "output_type": "execute_result"
    }
   ],
   "source": [
    "# Filter only dates between 2014 and 2019\n",
    "df_filtered = df[(df[\"season_start_year\"] >= 2015) & (df[\"season_start_year\"] <= 2019)]\n",
    "\n",
    "df_filtered.head(10)"
   ]
  },
  {
   "cell_type": "markdown",
   "metadata": {},
   "source": [
    "> Filtered out games between 2014 and 2019."
   ]
  },
  {
   "cell_type": "code",
   "execution_count": 129,
   "metadata": {},
   "outputs": [],
   "source": [
    "# Save the transformed dataset to a CSV\n",
    "FILE_PATH = \"../tests/test_data/test_cleaned_games.csv\"\n",
    "df_filtered.to_csv(FILE_PATH, index=False)"
   ]
  }
 ],
 "metadata": {
  "kernelspec": {
   "display_name": ".venv",
   "language": "python",
   "name": "python3"
  },
  "language_info": {
   "codemirror_mode": {
    "name": "ipython",
    "version": 3
   },
   "file_extension": ".py",
   "mimetype": "text/x-python",
   "name": "python",
   "nbconvert_exporter": "python",
   "pygments_lexer": "ipython3",
   "version": "3.13.5"
  }
 },
 "nbformat": 4,
 "nbformat_minor": 2
}
