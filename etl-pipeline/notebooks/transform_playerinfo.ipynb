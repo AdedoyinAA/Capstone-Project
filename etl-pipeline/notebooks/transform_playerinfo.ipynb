{
 "cells": [
  {
   "cell_type": "markdown",
   "metadata": {},
   "source": [
    "# EDA for Player Information"
   ]
  },
  {
   "cell_type": "code",
   "execution_count": 5,
   "metadata": {},
   "outputs": [],
   "source": [
    "import pandas as pd\n",
    "\n",
    "pd.set_option(\"display.max_columns\", None)\n",
    "pd.set_option(\"display.width\", None) \n",
    "pd.set_option(\"display.max_colwidth\", None)"
   ]
  },
  {
   "cell_type": "code",
   "execution_count": 7,
   "metadata": {},
   "outputs": [
    {
     "name": "stdout",
     "output_type": "stream",
     "text": [
      "<class 'pandas.core.frame.DataFrame'>\n",
      "RangeIndex: 5018 entries, 0 to 5017\n",
      "Data columns (total 8 columns):\n",
      " #   Column      Non-Null Count  Dtype  \n",
      "---  ------      --------------  -----  \n",
      " 0   playerName  5018 non-null   object \n",
      " 1   From        5018 non-null   int64  \n",
      " 2   To          5018 non-null   int64  \n",
      " 3   Pos         5018 non-null   object \n",
      " 4   Ht          5018 non-null   object \n",
      " 5   Wt          5013 non-null   float64\n",
      " 6   birthDate   5000 non-null   object \n",
      " 7   Colleges    4665 non-null   object \n",
      "dtypes: float64(1), int64(2), object(5)\n",
      "memory usage: 313.8+ KB\n"
     ]
    }
   ],
   "source": [
    "df = pd.read_csv(\"../data/raw/player_info.csv\")\n",
    "\n",
    "df.info()"
   ]
  }
 ],
 "metadata": {
  "kernelspec": {
   "display_name": ".venv",
   "language": "python",
   "name": "python3"
  },
  "language_info": {
   "codemirror_mode": {
    "name": "ipython",
    "version": 3
   },
   "file_extension": ".py",
   "mimetype": "text/x-python",
   "name": "python",
   "nbconvert_exporter": "python",
   "pygments_lexer": "ipython3",
   "version": "3.13.5"
  }
 },
 "nbformat": 4,
 "nbformat_minor": 2
}
