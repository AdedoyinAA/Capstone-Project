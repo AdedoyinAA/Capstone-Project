{
 "cells": [
  {
   "cell_type": "markdown",
   "metadata": {},
   "source": [
    "# EDA for Salaries"
   ]
  },
  {
   "cell_type": "code",
   "execution_count": 1,
   "metadata": {},
   "outputs": [],
   "source": [
    "import pandas as pd\n",
    "\n",
    "pd.set_option(\"display.max_columns\", None)\n",
    "pd.set_option(\"display.width\", None) \n",
    "pd.set_option(\"display.max_colwidth\", None)"
   ]
  },
  {
   "cell_type": "code",
   "execution_count": 4,
   "metadata": {},
   "outputs": [
    {
     "data": {
      "text/html": [
       "<div>\n",
       "<style scoped>\n",
       "    .dataframe tbody tr th:only-of-type {\n",
       "        vertical-align: middle;\n",
       "    }\n",
       "\n",
       "    .dataframe tbody tr th {\n",
       "        vertical-align: top;\n",
       "    }\n",
       "\n",
       "    .dataframe thead th {\n",
       "        text-align: right;\n",
       "    }\n",
       "</style>\n",
       "<table border=\"1\" class=\"dataframe\">\n",
       "  <thead>\n",
       "    <tr style=\"text-align: right;\">\n",
       "      <th></th>\n",
       "      <th>playerName</th>\n",
       "      <th>seasonStartYear</th>\n",
       "      <th>salary</th>\n",
       "      <th>inflationAdjSalary</th>\n",
       "    </tr>\n",
       "  </thead>\n",
       "  <tbody>\n",
       "    <tr>\n",
       "      <th>0</th>\n",
       "      <td>Michael Jordan</td>\n",
       "      <td>1996</td>\n",
       "      <td>$30,140,000</td>\n",
       "      <td>$52,258,566</td>\n",
       "    </tr>\n",
       "    <tr>\n",
       "      <th>1</th>\n",
       "      <td>Horace Grant</td>\n",
       "      <td>1996</td>\n",
       "      <td>$14,857,000</td>\n",
       "      <td>$25,759,971</td>\n",
       "    </tr>\n",
       "    <tr>\n",
       "      <th>2</th>\n",
       "      <td>Reggie Miller</td>\n",
       "      <td>1996</td>\n",
       "      <td>$11,250,000</td>\n",
       "      <td>$19,505,934</td>\n",
       "    </tr>\n",
       "    <tr>\n",
       "      <th>3</th>\n",
       "      <td>Shaquille O'Neal</td>\n",
       "      <td>1996</td>\n",
       "      <td>$10,714,000</td>\n",
       "      <td>$18,576,585</td>\n",
       "    </tr>\n",
       "    <tr>\n",
       "      <th>4</th>\n",
       "      <td>Gary Payton</td>\n",
       "      <td>1996</td>\n",
       "      <td>$10,212,000</td>\n",
       "      <td>$17,706,187</td>\n",
       "    </tr>\n",
       "  </tbody>\n",
       "</table>\n",
       "</div>"
      ],
      "text/plain": [
       "         playerName  seasonStartYear       salary inflationAdjSalary\n",
       "0    Michael Jordan             1996  $30,140,000        $52,258,566\n",
       "1      Horace Grant             1996  $14,857,000        $25,759,971\n",
       "2     Reggie Miller             1996  $11,250,000        $19,505,934\n",
       "3  Shaquille O'Neal             1996  $10,714,000        $18,576,585\n",
       "4       Gary Payton             1996  $10,212,000        $17,706,187"
      ]
     },
     "execution_count": 4,
     "metadata": {},
     "output_type": "execute_result"
    }
   ],
   "source": [
    "df = pd.read_csv(\"../data/raw/salaries.csv\")\n",
    "\n",
    "df.head()"
   ]
  },
  {
   "cell_type": "code",
   "execution_count": 5,
   "metadata": {},
   "outputs": [
    {
     "name": "stdout",
     "output_type": "stream",
     "text": [
      "<class 'pandas.core.frame.DataFrame'>\n",
      "RangeIndex: 11583 entries, 0 to 11582\n",
      "Data columns (total 4 columns):\n",
      " #   Column                     Non-Null Count  Dtype \n",
      "---  ------                     --------------  ----- \n",
      " 0   player_name                11583 non-null  object\n",
      " 1   season_start_year          11583 non-null  int64 \n",
      " 2   salary                     11583 non-null  object\n",
      " 3   inflation_adjusted_salary  11583 non-null  object\n",
      "dtypes: int64(1), object(3)\n",
      "memory usage: 362.1+ KB\n"
     ]
    }
   ],
   "source": [
    "dict_for_renaming_columns = {\n",
    "    \"playerName\": \"player_name \",\n",
    "    \"seasonStartYear\": \"season_start_year \",\n",
    "    \"salary\": \"salary \",\n",
    "    \"inflationAdjSalary\": \"inflation_adjusted_salary\",\n",
    "}\n",
    "\n",
    "df = df.rename(columns=dict_for_renaming_columns)\n",
    "\n",
    "df.info()"
   ]
  },
  {
   "cell_type": "markdown",
   "metadata": {},
   "source": [
    "> Columns have been renamed for consistency. Some column names have been intentionally messed up to add more cleaning."
   ]
  },
  {
   "cell_type": "code",
   "execution_count": 6,
   "metadata": {},
   "outputs": [
    {
     "data": {
      "text/plain": [
       "np.int64(0)"
      ]
     },
     "execution_count": 6,
     "metadata": {},
     "output_type": "execute_result"
    }
   ],
   "source": [
    "df.duplicated().sum()"
   ]
  },
  {
   "cell_type": "markdown",
   "metadata": {},
   "source": [
    "> No duplicates in the dataset."
   ]
  },
  {
   "cell_type": "code",
   "execution_count": 9,
   "metadata": {},
   "outputs": [
    {
     "name": "stdout",
     "output_type": "stream",
     "text": [
      "<class 'pandas.core.frame.DataFrame'>\n",
      "RangeIndex: 11583 entries, 0 to 11582\n",
      "Data columns (total 4 columns):\n",
      " #   Column                     Non-Null Count  Dtype \n",
      "---  ------                     --------------  ----- \n",
      " 0   player_name                11583 non-null  object\n",
      " 1   season_start_year          11583 non-null  int64 \n",
      " 2   salary                     11583 non-null  object\n",
      " 3   inflation_adjusted_salary  11583 non-null  object\n",
      "dtypes: int64(1), object(3)\n",
      "memory usage: 362.1+ KB\n"
     ]
    }
   ],
   "source": [
    "# Trim leading and trailing whitespaces in column names\n",
    "df.columns = df.columns.str.strip()\n",
    "\n",
    "# Trim leading and trailing whitespaces in rows\n",
    "df[df.select_dtypes(include=\"object\").columns] = (\n",
    "    df.select_dtypes(include=\"object\").apply(lambda x: x.str.strip())\n",
    ")\n",
    "\n",
    "df.info()"
   ]
  },
  {
   "cell_type": "markdown",
   "metadata": {},
   "source": [
    "> All leading and trailing whitesppaces have been removed from the dataset"
   ]
  },
  {
   "cell_type": "code",
   "execution_count": 13,
   "metadata": {},
   "outputs": [
    {
     "name": "stdout",
     "output_type": "stream",
     "text": [
      "<class 'pandas.core.frame.DataFrame'>\n",
      "RangeIndex: 11583 entries, 0 to 11582\n",
      "Data columns (total 4 columns):\n",
      " #   Column                     Non-Null Count  Dtype \n",
      "---  ------                     --------------  ----- \n",
      " 0   player_name                11583 non-null  object\n",
      " 1   season_start_year          11583 non-null  int64 \n",
      " 2   salary                     11583 non-null  object\n",
      " 3   inflation_adjusted_salary  11583 non-null  object\n",
      "dtypes: int64(1), object(3)\n",
      "memory usage: 362.1+ KB\n"
     ]
    }
   ],
   "source": [
    "df[\"season_start_year\"] = pd.to_numeric(df[\"season_start_year\"], errors=\"coerce\")\n",
    "\n",
    "df.info()"
   ]
  },
  {
   "cell_type": "markdown",
   "metadata": {},
   "source": [
    "> Converted the `season_start_year` to numeric for filtering."
   ]
  },
  {
   "cell_type": "code",
   "execution_count": null,
   "metadata": {},
   "outputs": [
    {
     "name": "stdout",
     "output_type": "stream",
     "text": [
      "<class 'pandas.core.frame.DataFrame'>\n",
      "Index: 2722 entries, 8861 to 11582\n",
      "Data columns (total 4 columns):\n",
      " #   Column                     Non-Null Count  Dtype \n",
      "---  ------                     --------------  ----- \n",
      " 0   player_name                2722 non-null   object\n",
      " 1   season_start_year          2722 non-null   int64 \n",
      " 2   salary                     2722 non-null   object\n",
      " 3   inflation_adjusted_salary  2722 non-null   object\n",
      "dtypes: int64(1), object(3)\n",
      "memory usage: 106.3+ KB\n"
     ]
    }
   ],
   "source": [
    "# Filter only dates between 2015 and 2019\n",
    "df_filtered = df[(df[\"season_start_year\"] >= 2015) & (df[\"season_start_year\"] <= 2019)]\n",
    "\n",
    "df_filtered.head(10)"
   ]
  },
  {
   "cell_type": "markdown",
   "metadata": {},
   "source": [
    "> Filtered out salaries between 2015 and 2019."
   ]
  },
  {
   "cell_type": "code",
   "execution_count": 16,
   "metadata": {},
   "outputs": [],
   "source": [
    "# Save the transformed dataset to a CSV file\n",
    "FILE_PATH = \"../tests/test_data/test_cleaned_salaries.csv\"\n",
    "df_filtered.to_csv(FILE_PATH, index=False)"
   ]
  }
 ],
 "metadata": {
  "kernelspec": {
   "display_name": ".venv",
   "language": "python",
   "name": "python3"
  },
  "language_info": {
   "codemirror_mode": {
    "name": "ipython",
    "version": 3
   },
   "file_extension": ".py",
   "mimetype": "text/x-python",
   "name": "python",
   "nbconvert_exporter": "python",
   "pygments_lexer": "ipython3",
   "version": "3.13.5"
  }
 },
 "nbformat": 4,
 "nbformat_minor": 2
}
